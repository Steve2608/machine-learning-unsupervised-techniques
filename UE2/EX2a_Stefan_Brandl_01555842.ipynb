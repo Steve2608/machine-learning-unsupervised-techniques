{
 "cells": [
  {
   "cell_type": "markdown",
   "metadata": {},
   "source": [
    "<h1 style=\"color:rgb(0,120,170)\">Assignment 2a</h1>\n",
    "<h2 style=\"color:rgb(208,90,80)\">Topic: Maximum Likelihood</h2>\n",
    "\n",
    "<h2 style=\"color:rgb(0,120,170)\">Machine Learning: Unsupervised Techniques, SS 2019</h2>\n",
    "\n",
    "<h3 style=\"color:rgb(0,120,170)\">Deadline March 31th 2019, 24:00</h3>\n",
    "Return this notebook with your code and answers."
   ]
  },
  {
   "cell_type": "markdown",
   "metadata": {},
   "source": [
    "# Exercise 2:\n",
    "\n",
    "Compute the Maximum Likelihood Estimator for the parameter $\\lambda$ of a\n",
    "Poisson distribution. This means: Assuming we have a sample ${x_{1},x_{2},...,x_{n}}$, we want to\n",
    "find the $\\lambda$ that maximizes\n",
    "\n",
    "$$\n",
    "\\prod_{i}^{n} \\mathcal{P}\\left( x_{i}; \\lambda \\right) = \\prod_{i}^{n} \\frac{\\lambda^{x_{i}}}{x_{i}!} \\mathcal{e}^{-\\lambda}\n",
    "$$\n",
    "\n",
    "Document which calculation rules you applied and make sure your approaches are comprehensible.\n",
    "\n",
    "**Hint:** You will have a much easier time if you first take the logarithm of the density function."
   ]
  },
  {
   "cell_type": "markdown",
   "metadata": {},
   "source": [
    "----------------\n",
    "----------------\n",
    "<h3 style=\"color:rgb(0,120,170)\">Question 2:</h3>\n",
    "\n",
    " 1. Compute the Maximum Likelihood Estimator for the parameter $\\lambda$ of a\n",
    "Poisson distribution.\n",
    "     * <span style=\"color:rgb(0,120,170)\">**TODO:** Markdown, Latex</span>"
   ]
  },
  {
   "cell_type": "markdown",
   "metadata": {},
   "source": [
    "<h3 style=\"color:rgb(208,90,80)\">Answer 2.1:</h3>"
   ]
  },
  {
   "cell_type": "markdown",
   "metadata": {},
   "source": [
    "Firstly we reformulate according to the log-likelihood: \n",
    "$$\n",
    "\\text{ln} \\big(\\prod_{i}^{n} \\mathcal{P}\\left( x_{i}; \\lambda \\right)\\big) = \\sum_i^n \\text{ln}(\\frac{\\lambda^{x_{i}}}{x_{i}!} \\mathcal{e}^{-\\lambda})  \n",
    "$$"
   ]
  },
  {
   "cell_type": "markdown",
   "metadata": {},
   "source": [
    "Applying logarithm rules: \n",
    "$$\n",
    "\\sum_i^n \\text{ln}(\\frac{\\lambda^{x_{i}}}{x_{i}!} \\mathcal{e}^{-\\lambda}) = \\\\\n",
    "\\sum_i^n \\text{ln}(\\frac{\\lambda^{x_{i}}}{x_{i}!}) + \\text{ln}(\\mathcal{e}^{-\\lambda}) = \\\\\n",
    "\\sum_i^n \\text{ln}(\\frac{\\lambda^{x_{i}}}{x_{i}!}) - \\lambda = \\\\\n",
    "\\sum_i^n \\text{ln}(\\lambda^{x_{i}}) - \\text{ln}({x_{i}!}) - \\lambda = \\\\\n",
    "\\sum_i^n x_i\\text{ln}(\\lambda) - \\text{ln}({x_{i}!}) - \\underbrace{\\lambda}_\\text{constant} = \\\\\n",
    "\\sum_i^n \\big(x_i\\text{ln}(\\lambda) - \\text{ln}({x_{i}!})\\big) -n \\lambda\n",
    "$$"
   ]
  },
  {
   "cell_type": "markdown",
   "metadata": {},
   "source": [
    "Taking the derivative and setting it to zero:\n",
    "$$\n",
    "\\frac{\\partial \\text{ln} L}{\\partial \\lambda} = 0 \\\\\n",
    "\\frac{\\partial \\sum_i^n \\big(x_i\\text{ln}(\\lambda) - \\text{ln}({x_{i}!})\\big) -n \\lambda}{\\partial \\lambda} = 0\\\\\n",
    "\\sum_i^n \\frac{x_i}{\\hat\\lambda} -n = 0 \\\\\n",
    "\\sum_i^n \\frac{x_i}{\\underbrace{\\hat\\lambda}_\\text{constant}} = n \\\\\n",
    "\\frac{1}{\\hat\\lambda} \\sum_i^n \\underbrace{x_i}_\\text{iid}  = n \\\\\n",
    "\\frac{1}{\\hat\\lambda} n \\overline{x} = n \\\\\n",
    "\\frac{1}{\\hat\\lambda} \\overline{x} = 1 \\\\\n",
    "\\hat\\lambda = \\overline{x}\n",
    "$$"
   ]
  },
  {
   "cell_type": "markdown",
   "metadata": {},
   "source": [
    "# Exercise 3:\n",
    "\n",
    "Plot the log-likelihood from exercise 2 as a function of λ and mark the\n",
    "position where the maximum occurs. Use the data stored in poisson.csv for this task. As\n",
    "possible values for λ we suggest values from 1 to 50 with a step size of 0.5 (0, 0.5, 1.0, ...). "
   ]
  },
  {
   "cell_type": "markdown",
   "metadata": {},
   "source": [
    "----------------\n",
    "----------------\n",
    "<h3 style=\"color:rgb(0,120,170)\">Question 3:</h3>\n",
    "\n",
    " 1. Plot the log-likelihood. Mark the position where the maximum occurs.\n",
    "     * <span style=\"color:rgb(0,120,170)\">**TODO:** Code</span>\n",
    " \n",
    " 2. Explain and discuss the result in your own words. Where is the maximum?\n",
    "     * <span style=\"color:rgb(0,120,170)\">**TODO:** Markdown, Latex</span>"
   ]
  },
  {
   "cell_type": "markdown",
   "metadata": {},
   "source": [
    "<h3 style=\"color:rgb(208,90,80)\">Answer 3.1:</h3>"
   ]
  },
  {
   "cell_type": "code",
   "execution_count": 1,
   "metadata": {
    "ExecuteTime": {
     "end_time": "2019-03-25T15:25:02.493516Z",
     "start_time": "2019-03-25T15:25:01.977884Z"
    }
   },
   "outputs": [
    {
     "data": {
      "text/html": [
       "<div>\n",
       "<style scoped>\n",
       "    .dataframe tbody tr th:only-of-type {\n",
       "        vertical-align: middle;\n",
       "    }\n",
       "\n",
       "    .dataframe tbody tr th {\n",
       "        vertical-align: top;\n",
       "    }\n",
       "\n",
       "    .dataframe thead th {\n",
       "        text-align: right;\n",
       "    }\n",
       "</style>\n",
       "<table border=\"1\" class=\"dataframe\">\n",
       "  <thead>\n",
       "    <tr style=\"text-align: right;\">\n",
       "      <th></th>\n",
       "      <th>0</th>\n",
       "    </tr>\n",
       "  </thead>\n",
       "  <tbody>\n",
       "    <tr>\n",
       "      <th>0</th>\n",
       "      <td>11</td>\n",
       "    </tr>\n",
       "    <tr>\n",
       "      <th>1</th>\n",
       "      <td>10</td>\n",
       "    </tr>\n",
       "    <tr>\n",
       "      <th>2</th>\n",
       "      <td>11</td>\n",
       "    </tr>\n",
       "    <tr>\n",
       "      <th>3</th>\n",
       "      <td>9</td>\n",
       "    </tr>\n",
       "    <tr>\n",
       "      <th>4</th>\n",
       "      <td>12</td>\n",
       "    </tr>\n",
       "  </tbody>\n",
       "</table>\n",
       "</div>"
      ],
      "text/plain": [
       "    0\n",
       "0  11\n",
       "1  10\n",
       "2  11\n",
       "3   9\n",
       "4  12"
      ]
     },
     "execution_count": 1,
     "metadata": {},
     "output_type": "execute_result"
    }
   ],
   "source": [
    "import pandas as pd\n",
    "import matplotlib.pyplot as plt\n",
    "import numpy as np\n",
    "data_df = pd.read_csv('poisson.csv',header=None)\n",
    "\n",
    "# print the head of the dataset, good practice\n",
    "data_df.head()"
   ]
  },
  {
   "cell_type": "code",
   "execution_count": 2,
   "metadata": {
    "ExecuteTime": {
     "end_time": "2019-03-25T15:25:02.504473Z",
     "start_time": "2019-03-25T15:25:02.495498Z"
    }
   },
   "outputs": [
    {
     "name": "stdout",
     "output_type": "stream",
     "text": [
      "<class 'pandas.core.frame.DataFrame'>\n",
      "<class 'numpy.ndarray'>\n"
     ]
    }
   ],
   "source": [
    "X = data_df.values\n",
    "\n",
    "print(type(data_df))\n",
    "print(type(X))"
   ]
  },
  {
   "cell_type": "code",
   "execution_count": 3,
   "metadata": {
    "ExecuteTime": {
     "end_time": "2019-03-25T15:25:02.771765Z",
     "start_time": "2019-03-25T15:25:02.509461Z"
    }
   },
   "outputs": [
    {
     "data": {
      "image/png": "[encoded data removed]",
      "text/plain": [
       "<Figure size 576x216 with 1 Axes>"
      ]
     },
     "metadata": {
      "needs_background": "light"
     },
     "output_type": "display_data"
    }
   ],
   "source": [
    "plt.figure(figsize=(8,3))\n",
    "f = plt.hist(data_df.T, density=len(data_df))\n",
    "plt.xlabel('x')\n",
    "plt.ylabel('p(x)')\n",
    "plt.title('Histogram of the poisson.csv');\n",
    "plt.show()"
   ]
  },
  {
   "cell_type": "markdown",
   "metadata": {},
   "source": [
    "**Log Likelihood:**"
   ]
  },
  {
   "cell_type": "code",
   "execution_count": 4,
   "metadata": {
    "ExecuteTime": {
     "end_time": "2019-03-25T15:25:02.777743Z",
     "start_time": "2019-03-25T15:25:02.772756Z"
    }
   },
   "outputs": [],
   "source": [
    "import math\n",
    "\n",
    "def loglikelihood(X, lam):\n",
    "    \"Implementation of the log likelihood for a given dataset X\"\n",
    "    if lam==0:\n",
    "        return -1\n",
    "    l = 0\n",
    "    for xi in X.ravel():\n",
    "        l+=xi*np.log(lam)-np.log(math.factorial(xi))-lam\n",
    "    return l"
   ]
  },
  {
   "cell_type": "code",
   "execution_count": 5,
   "metadata": {
    "ExecuteTime": {
     "end_time": "2019-03-25T15:25:02.819670Z",
     "start_time": "2019-03-25T15:25:02.778744Z"
    },
    "scrolled": false
   },
   "outputs": [
    {
     "name": "stdout",
     "output_type": "stream",
     "text": [
      "Log-likelihood -17657.375145141297\n",
      "Log-likelihood -13891.351226888648\n",
      "Log-likelihood -9496.710395590679\n"
     ]
    }
   ],
   "source": [
    "#test the function\n",
    "lam_set = np.linspace(1,50,100)\n",
    "\n",
    "np.set_printoptions(precision=4)\n",
    "print(\"Log-likelihood {}\".format(loglikelihood(X,lam_set[0])))\n",
    "print(\"Log-likelihood {}\".format(loglikelihood(X,lam_set[1])))\n",
    "print(\"Log-likelihood {}\".format(loglikelihood(X,lam_set[3])))"
   ]
  },
  {
   "cell_type": "markdown",
   "metadata": {},
   "source": [
    "* <span style=\"color:rgb(208,90,80)\">**TODO:** Code</span>\n",
    "Implement the estimator_formula function"
   ]
  },
  {
   "cell_type": "code",
   "execution_count": 6,
   "metadata": {
    "ExecuteTime": {
     "end_time": "2019-03-25T15:25:02.824655Z",
     "start_time": "2019-03-25T15:25:02.820628Z"
    }
   },
   "outputs": [],
   "source": [
    "def estimator_formula(X):\n",
    "    \"\"\" the estimator returns lambda hat arcording to the result A2.1\"\"\"\n",
    "    \n",
    "    #Accoring to A2.1 the maximum likelihood estimator is ...\n",
    "    return X.mean()"
   ]
  },
  {
   "cell_type": "code",
   "execution_count": 7,
   "metadata": {
    "ExecuteTime": {
     "end_time": "2019-03-25T15:25:02.830601Z",
     "start_time": "2019-03-25T15:25:02.826615Z"
    }
   },
   "outputs": [
    {
     "name": "stdout",
     "output_type": "stream",
     "text": [
      "Likelihood is maximal at lambda (formula)= 10.597\n"
     ]
    }
   ],
   "source": [
    "lam_max_formula = estimator_formula(X)\n",
    "print('Likelihood is maximal at lambda (formula)=',lam_max_formula)"
   ]
  },
  {
   "cell_type": "markdown",
   "metadata": {},
   "source": [
    "* <span style=\"color:rgb(208,90,80)\">**TODO:** Code</span>\n",
    "Implement the estimator_argmax function"
   ]
  },
  {
   "cell_type": "code",
   "execution_count": 8,
   "metadata": {
    "ExecuteTime": {
     "end_time": "2019-03-25T15:25:02.838587Z",
     "start_time": "2019-03-25T15:25:02.832596Z"
    }
   },
   "outputs": [],
   "source": [
    "def estimator_argmax(X, lam_set):\n",
    "    loglikelih = np.asarray([loglikelihood(X, lam) for lam in lam_set])\n",
    "    return loglikelih, np.min(loglikelih), np.max(loglikelih), lam_set[loglikelih.argmax()]"
   ]
  },
  {
   "cell_type": "code",
   "execution_count": 9,
   "metadata": {
    "ExecuteTime": {
     "end_time": "2019-03-25T15:25:03.892761Z",
     "start_time": "2019-03-25T15:25:02.842586Z"
    }
   },
   "outputs": [
    {
     "name": "stdout",
     "output_type": "stream",
     "text": [
      "Likelihood is maximal at lambda (argmax)= 10.5\n"
     ]
    }
   ],
   "source": [
    "lam_set = np.arange(1, 50, 0.5) # start, end, stepsize\n",
    "loglikelih, ln_min, ln_max, lam_max = estimator_argmax(X, lam_set)\n",
    "print('Likelihood is maximal at lambda (argmax)=', lam_max)"
   ]
  },
  {
   "cell_type": "markdown",
   "metadata": {},
   "source": [
    "* <span style=\"color:rgb(208,90,80)\">**TODO:** Code</span>\n",
    "* Implement the loglikelih function over lam_set\n",
    "* mark the maximum in the plot (estimator_formula, estimator_argmax)"
   ]
  },
  {
   "cell_type": "code",
   "execution_count": 10,
   "metadata": {
    "ExecuteTime": {
     "end_time": "2019-03-25T15:25:04.194004Z",
     "start_time": "2019-03-25T15:25:03.893759Z"
    },
    "scrolled": false
   },
   "outputs": [
    {
     "data": {
      "image/png": "[encoded data removed]",
      "text/plain": [
       "<Figure size 1152x648 with 1 Axes>"
      ]
     },
     "metadata": {
      "needs_background": "light"
     },
     "output_type": "display_data"
    }
   ],
   "source": [
    "plt.figure(figsize=(16, 9))\n",
    "plt.plot(lam_set, loglikelih, linewidth=.5)\n",
    "\n",
    "plt.scatter(estimator_formula(X), loglikelihood(X, estimator_formula(X)), s=15, color='red')\n",
    "plt.scatter(lam_max, estimator_argmax(X, [lam_max])[1], s=15, color='green')\n",
    "plt.legend(['loglikelihood', 'formula', 'arg_max'])\n",
    "plt.xlabel('lambda')\n",
    "plt.ylabel('loglikelihood')\n",
    "plt.title('Loglikelihood for poisson.csv')\n",
    "plt.show()"
   ]
  },
  {
   "cell_type": "markdown",
   "metadata": {},
   "source": [
    "<h3 style=\"color:rgb(208,90,80)\">Answer 3.2:</h3>\n"
   ]
  },
  {
   "cell_type": "markdown",
   "metadata": {},
   "source": [
    "As we can see from the plot, the results for both maxima (*formula* and *arg_max*) are very similar.\n",
    "However, the exact formula (*formula*) yields a higher (thus better) estimation of the true parameter $\\lambda$ than the approximation (*arg_max*).\n",
    "\n",
    "So where **IS** the maximum? From our limited data sample we cannot know what the **true** parameter $\\lambda$. For these 1000 samples, the maximum is at 10.597 (=*formula* result). "
   ]
  }
 ],
 "metadata": {
  "kernelspec": {
   "display_name": "Python 3",
   "language": "python",
   "name": "python3"
  },
  "language_info": {
   "codemirror_mode": {
    "name": "ipython",
    "version": 3
   },
   "file_extension": ".py",
   "mimetype": "text/x-python",
   "name": "python",
   "nbconvert_exporter": "python",
   "pygments_lexer": "ipython3",
   "version": "3.8.2"
  },
  "latex_envs": {
   "LaTeX_envs_menu_present": true,
   "autoclose": false,
   "autocomplete": true,
   "bibliofile": "biblio.bib",
   "cite_by": "apalike",
   "current_citInitial": 1,
   "eqLabelWithNumbers": true,
   "eqNumInitial": 1,
   "hotkeys": {
    "equation": "Ctrl-E",
    "itemize": "Ctrl-I"
   },
   "labels_anchors": false,
   "latex_user_defs": false,
   "report_style_numbering": false,
   "user_envs_cfg": false
  }
 },
 "nbformat": 4,
 "nbformat_minor": 2
}
