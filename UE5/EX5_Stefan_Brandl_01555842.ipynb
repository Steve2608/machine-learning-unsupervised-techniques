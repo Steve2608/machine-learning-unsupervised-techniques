{
 "cells": [
  {
   "cell_type": "markdown",
   "metadata": {},
   "source": [
    "<h1 style=\"color:rgb(0,120,170)\">Assignment 5</h1>\n",
    "\n",
    "<h2 style=\"color:rgb(208,90,80)\">Topic: Factor Analysis</h2>\n",
    "<h2 style=\"color:rgb(0,120,170)\">Machine Learning: Unsupervised Techniques, SS 2019</h2>\n",
    "\n",
    "<h3 style=\"color:rgb(0,120,170)\">Deadline: see Moodle</h3>\n",
    "\n",
    "Return this notebook with your code and answers."
   ]
  },
  {
   "cell_type": "markdown",
   "metadata": {},
   "source": [
    "# Exercise A: Programming and Data Analysis"
   ]
  },
  {
   "cell_type": "code",
   "execution_count": 1,
   "metadata": {
    "ExecuteTime": {
     "end_time": "2019-05-12T20:29:44.299833Z",
     "start_time": "2019-05-12T20:29:43.861674Z"
    }
   },
   "outputs": [],
   "source": [
    "import numpy as np\n",
    "import scipy\n",
    "import scipy.stats\n",
    "\n",
    "# Own imports\n",
    "import matplotlib.pyplot as plt"
   ]
  },
  {
   "cell_type": "markdown",
   "metadata": {},
   "source": [
    "Consider the following parameters, i.e. the number of samples `nrSamples`, the number of features `nrFeatures`, and the number of hidden variables/factors/latent variables `nrHidden`. We randomly choose a factor loading matrix `U` and a noise covariance matrix `Psi`. Note that the latter is a diagonal matrix and can thus be efficiently implemented as a vector."
   ]
  },
  {
   "cell_type": "code",
   "execution_count": 2,
   "metadata": {
    "ExecuteTime": {
     "end_time": "2019-05-12T20:29:44.308838Z",
     "start_time": "2019-05-12T20:29:44.300815Z"
    }
   },
   "outputs": [
    {
     "name": "stdout",
     "output_type": "stream",
     "text": [
      "U = [[ 1.34016346  1.73759123  1.49898834 -0.22864333  2.031034  ]\n",
      " [ 2.17032495  1.59645265 -0.76945156  0.56605824 -0.11927018]\n",
      " [-0.1465108  -0.79890338  0.77183278 -0.82819136  1.32667483]\n",
      " [ 1.05986776  2.14408873 -1.43464512  2.28743654  0.42864858]\n",
      " [-1.27735774 -0.81239806  0.29888126 -0.83479401  0.57234671]\n",
      " [ 0.34436419  2.06583253  0.34092975 -1.06248478  1.04470276]\n",
      " [ 0.76049958  0.72027479  0.81431707 -0.26817228  0.86148846]\n",
      " [-0.4036122   0.57010427  1.35185359  0.80588592 -0.11784617]\n",
      " [ 0.06192517  1.56967617  0.09135511 -0.55761771 -0.80353874]\n",
      " [-1.70423671  0.76773378  1.28106105  0.64261379  1.21378137]\n",
      " [-0.05858236 -1.28087238  0.11330281  0.00876557 -2.15009066]\n",
      " [-0.52745637  0.1960846  -1.54752551  0.84530456  0.57418049]\n",
      " [-0.31176006  0.17788991 -0.54071305  0.37785798 -1.45473663]\n",
      " [-0.07598855  0.03690977 -0.41350682 -1.08373066  1.39172053]\n",
      " [ 1.41778778 -1.11864984  1.00605157 -1.24514983 -0.17587852]\n",
      " [ 0.5796579   0.1359769   0.21919628 -2.98217483 -0.98510605]\n",
      " [-2.19716644  0.89122782  0.91537827 -0.07802471 -0.01980779]\n",
      " [ 0.47181786 -0.31771784 -0.10651139 -0.89640062  0.20599942]\n",
      " [-0.42035958  0.42846667 -0.48902436  0.70788636 -1.30682461]\n",
      " [ 0.00817764 -1.33378803  0.883597    0.14904504 -0.25992124]\n",
      " [ 0.71057822 -0.6230463   0.38549998 -0.55378453  0.91377942]\n",
      " [-0.7867588  -0.12105161  0.86425915 -0.22071134 -1.636991  ]\n",
      " [ 1.97603285  0.79536277 -2.34691267 -0.14888169 -0.33265213]\n",
      " [-1.39349301 -1.94559948  0.95217779 -0.81603636  1.41732006]\n",
      " [ 0.58248358  0.15837651 -0.75287645 -1.18620725  1.13278804]\n",
      " [-0.528654   -0.54154509 -1.2379724   1.65643251  0.05103029]\n",
      " [-0.92768023  0.73740006  0.52087094  1.17414596 -0.87328811]\n",
      " [ 0.32666586 -0.50365941  1.12047561 -1.95909712 -0.19167968]\n",
      " [ 1.19125004 -0.11717311  0.80043987 -1.02069145 -0.23187897]\n",
      " [-1.14966005 -1.12465511  0.273953   -1.30774069  1.19544819]]\n",
      "\n",
      "Psi = [1.36354703 2.77940031 1.94584432 2.34739154 2.37565545 1.99050676\n",
      " 1.44682888 1.57119211 2.96783968 1.92390528 1.46227318 2.25626635\n",
      " 2.58489035 2.40588902 1.12257041 2.92203656 1.71089475 1.12805011\n",
      " 1.8902346  1.21847939 1.17162538 2.90241016 1.84265298 2.95041401\n",
      " 2.79180308 1.75455069 1.92100126 1.61095197 2.22291012 2.71623178]\n"
     ]
    }
   ],
   "source": [
    "np.random.seed(1234567890)\n",
    "nrSamples = 10000\n",
    "nrFeatures = 30\n",
    "nrHidden = 5\n",
    "U = np.random.normal(size=[nrFeatures, nrHidden])\n",
    "Psi = np.random.uniform(1.0, 3.0, size=[nrFeatures])\n",
    "print(f'U = {U}\\n')\n",
    "print(f'Psi = {Psi}')"
   ]
  },
  {
   "cell_type": "markdown",
   "metadata": {},
   "source": [
    "<h3 style=\"color:rgb(0,120,170)\">Question 5.1 (10 Points):</h3>\n",
    "\n",
    "Generate some toydata `X` with `nrSamples` and `nrFeatures` according to a centered Factor Analyis model, using the factor loading matrix `U` from above and `noise` according to the noise covariance matrix `Psi`."
   ]
  },
  {
   "cell_type": "markdown",
   "metadata": {},
   "source": [
    "<h3 style=\"color:rgb(208,90,80)\">Answer 5.1:</h3>"
   ]
  },
  {
   "cell_type": "code",
   "execution_count": 3,
   "metadata": {
    "ExecuteTime": {
     "end_time": "2019-05-12T20:29:44.328780Z",
     "start_time": "2019-05-12T20:29:44.309797Z"
    }
   },
   "outputs": [
    {
     "name": "stdout",
     "output_type": "stream",
     "text": [
      "(5, 5)\n",
      "(10000, 5)\n",
      "(10000, 30)\n",
      "(10000, 30)\n"
     ]
    }
   ],
   "source": [
    "I = np.identity(nrHidden)\n",
    "print(I.shape)\n",
    "\n",
    "# Y ~ N(0, I)\n",
    "Y = np.random.multivariate_normal(np.zeros(nrHidden), I, size=nrSamples)\n",
    "print(Y.shape)\n",
    "\n",
    "# e ~ N(0, psi)\n",
    "e = np.random.multivariate_normal(np.zeros(nrFeatures),\n",
    "                                  np.diag(Psi),\n",
    "                                  size=nrSamples)\n",
    "print(e.shape)\n",
    "\n",
    "# X = Uy + e\n",
    "X = Y @ U.T + e\n",
    "print(X.shape)"
   ]
  },
  {
   "cell_type": "markdown",
   "metadata": {},
   "source": [
    "<h3 style=\"color:rgb(0,120,170)\">Question 5.2 (5 Points):</h3>\n",
    "\n",
    "Now derive an expression for the covariance matrix `CMat` of the generated data. (Make sure to center the data (i.e. assume non-zero mean) for this calculation, since you might not know at this stage, that the data is generated with a mean of 0.)"
   ]
  },
  {
   "cell_type": "markdown",
   "metadata": {},
   "source": [
    "<h3 style=\"color:rgb(208,90,80)\">Answer 5.2:</h3>"
   ]
  },
  {
   "cell_type": "code",
   "execution_count": 4,
   "metadata": {
    "ExecuteTime": {
     "end_time": "2019-05-12T20:29:44.336761Z",
     "start_time": "2019-05-12T20:29:44.329793Z"
    }
   },
   "outputs": [
    {
     "name": "stdout",
     "output_type": "stream",
     "text": [
      "(30, 30)\n",
      "[12.57218714  4.12468091  2.42199634  3.28097802 -1.19151224  6.76998798\n",
      "  5.22731694  2.09211147  1.47851069  3.30131749 -6.38544186 -1.73418451\n",
      " -3.88121989  2.28627471  1.41837258  0.09843094 -0.04852499  0.52226284\n",
      " -3.2154409  -1.49359041  2.41796947 -3.18217264 -0.14077544 -0.76969219\n",
      "  2.54950791 -3.72489481 -1.15463917  1.30065542  2.24660141 -0.3402228 ]\n"
     ]
    }
   ],
   "source": [
    "def scale_CMat(mat):\n",
    "    scaled = mat - mat.mean(axis=0)\n",
    "    n = len(mat)\n",
    "    return (scaled.T @ scaled) / n\n",
    "\n",
    "\n",
    "C = scale_CMat(X)\n",
    "print(C.shape)\n",
    "print(C[0, :])"
   ]
  },
  {
   "cell_type": "markdown",
   "metadata": {},
   "source": [
    "<h3 style=\"color:rgb(0,120,170)\">Question 5.3 (10 Points):</h3>\n",
    "\n",
    "Compute the moments (mean: `mu` and variance `sigma`) given by equations (1) of the exercise notes for the given parameters and settings."
   ]
  },
  {
   "cell_type": "markdown",
   "metadata": {},
   "source": [
    "<h3 style=\"color:rgb(208,90,80)\">Answer 5.3:</h3>"
   ]
  },
  {
   "cell_type": "code",
   "execution_count": 5,
   "metadata": {
    "ExecuteTime": {
     "end_time": "2019-05-12T20:29:44.348730Z",
     "start_time": "2019-05-12T20:29:44.337765Z"
    },
    "scrolled": true
   },
   "outputs": [
    {
     "name": "stdout",
     "output_type": "stream",
     "text": [
      "shape(µ): (10000, 5)\n",
      "µ:\n",
      "[[-0.2085251  -0.46470825  0.40002031 -1.48806009  2.07557633]\n",
      " [ 0.64999743 -0.0269445  -1.02206611 -0.2407601   0.5804282 ]\n",
      " [-1.6864065  -0.23588198 -0.97322217 -0.29442394  0.67265929]\n",
      " ...\n",
      " [ 0.25525804 -1.02514046  1.26353014  1.11502866  0.03523008]\n",
      " [-0.61266769  0.19823081  1.52873752  2.58718839 -0.45543549]\n",
      " [-0.09650063 -1.32746906  0.81998553 -0.38471436  0.02844476]]\n",
      "\n",
      "shape(σ): (5, 5)\n",
      "σ:\n",
      "[[ 0.06770432 -0.0162667   0.01927399  0.02486127 -0.00131667]\n",
      " [-0.0162667   0.06850146  0.00055655 -0.02449904 -0.01651997]\n",
      " [ 0.01927399  0.00055655  0.07869249  0.02772072 -0.01211671]\n",
      " [ 0.02486127 -0.02449904  0.02772072  0.07688728  0.01062434]\n",
      " [-0.00131667 -0.01651997 -0.01211671  0.01062434  0.065298  ]]\n"
     ]
    }
   ],
   "source": [
    "def mu(U, Psi, x_i):\n",
    "    return U.T @ np.linalg.inv(U @ U.T + Psi) @ x_i\n",
    "\n",
    "\n",
    "# computationally expensive but stuck with original formula\n",
    "def mu_all(U, Psi, X):\n",
    "    return np.asarray([mu(U, Psi, x_i) for x_i in X])\n",
    "\n",
    "\n",
    "def mu_all_fast(U, Psi, X):\n",
    "    return X @ (U.T @ np.linalg.inv(U @ U.T + Psi)).T\n",
    "\n",
    "\n",
    "def sigma(U, Psi):\n",
    "    I = np.identity(U.shape[1])\n",
    "    return I - U.T @ np.linalg.inv(U @ U.T + Psi) @ U\n",
    "\n",
    "\n",
    "X_scaled = X - X.mean(axis=0)\n",
    "\n",
    "# 1:1 formula from slides\n",
    "# mus = mu_all(U, Psi, X_scaled)\n",
    "\n",
    "mus = mu_all_fast(U, np.diag(Psi), X_scaled)\n",
    "sigmas = sigma(U, np.diag(Psi))\n",
    "\n",
    "print(f'shape(µ): {mus.shape}')\n",
    "print(f'µ:\\n{mus}\\n')\n",
    "\n",
    "print(f'shape(σ): {sigmas.shape}')\n",
    "print(f'σ:\\n{sigmas}')"
   ]
  },
  {
   "cell_type": "markdown",
   "metadata": {},
   "source": [
    "<h3 style=\"color:rgb(0,120,170)\">Question 5.4 (15 Points + 10 Bonus Points):</h3>\n",
    "\n",
    "The matrix inversion lemma (equation (2) of the exercise notes) is often helpful to get expressions that are faster to compute. Examples of these expressions are given by equations (3)-(5). These expressions are then further used for the equations in the M-Step of the EM algorithm.\n",
    "\n",
    "Using, (3)-(5), compute $U_{part_0} = \\frac{1}{n} \\sum_{i=1}^n \\mathbf{x}_i \\mathbf{E}_{\\mathbf{y}_i | \\mathbf{x}_i}\\! \\left( \\mathbf{y}_i^T \\right)$ and $U_{part_1} = \\frac{1}{n} \\sum_{i=1}^n \\mathbf{E}_{\\mathbf{y}_i | \\mathbf{x}_i}\\! \\left( \\mathbf{y}_i \\mathbf{y}_i^T \\right)$.\n",
    "\n",
    "*Hint*: When studying the lecture notes (not the exercise notes), consider that $\\mathbf{U}$ is used for two different expressions (in the same formulas). So don't get confused, in the exercise notes, we use $\\hat{\\mathbf{U}} = \\Psi^{-1} \\mathbf{U}$ and $\\mathbf{B} = \\mathbf{U}^{T} \\hat{\\mathbf{U}}$.\n",
    "\n",
    "*Bonus*: When do you see advantages of using the simplified equations (3)-(5)? Under which condition would you prefer not to use them?"
   ]
  },
  {
   "cell_type": "markdown",
   "metadata": {},
   "source": [
    "---\n",
    " \n",
    "*Matrix-Inversions are computationally very expensive, thus we try to minimize the amount of inversions needed and/or the size of the matrix to be inverted.*\n",
    "\n",
    "*In our case, we have to decide between inverting $I + B$, which is $I + U^T \\psi U$ and inverting $UU^T + \\psi$.*\n",
    "\n",
    "*We now have look at the dimensionalities of the matrices (`f` ... n_features; `h`... n_hidden:) \n",
    "- $U$: `f x h`\n",
    "- $U^T$: `h x f`\n",
    "- $I$: `h x h`\n",
    "- $\\psi$: `h x h`*\n",
    "\n",
    "*$(I + B)^{-1}$ thus has dimensionality of `h x h`, while $UU^T + \\psi$ has dimensionality of `f x f`.*\n",
    "\n",
    "*From this we can argue in favour of using the inversion lemma for `f > h` and against using it for `h > f`.*"
   ]
  },
  {
   "cell_type": "markdown",
   "metadata": {},
   "source": [
    "<h3 style=\"color:rgb(208,90,80)\">Answer 5.4:</h3>"
   ]
  },
  {
   "cell_type": "markdown",
   "metadata": {},
   "source": [
    "\\begin{align*}\n",
    "U_{part_0} &= \\frac{1}{n} \\sum_{i=1}^n \\mathbf{x_i} \\mathbf{E_{y_i | x_i}} (\\mathbf{y_i^T}) \\\\\n",
    "&= C \\big(\\hat{U} - \\hat{U}(I + B)^{-1} B \\big)\n",
    "\\end{align*}\n",
    "\n",
    "\\begin{align*}\n",
    "U_{part_1} &= \\frac{1}{n} \\sum_{i=1}^n \\mathbf{E_{y_i | x_i}} (\\mathbf{y_i}\\mathbf{y_i^T}) \\\\\n",
    "&= \\frac{1}{n} \\sum_{i=1}^n \\big(\\mu_{y_i | x_i}\\mu_{y_i | x_i}^T + \\Sigma_{y_i | x_i}\\big) \\\\\n",
    "&= \\big(\\hat{U} - \\hat{U} (I + B)^{-1} B\\big)^T C \\big( \\hat{U} - \\hat{U}(I + B)^{-1} \\big) + (I + B)^{-1} \\\\\n",
    "&= A^T C A + (I + B)^{-1}\n",
    "\\end{align*}\n",
    "with $A = \\hat{U} - \\hat{U} (I + B)^{-1} B$"
   ]
  },
  {
   "cell_type": "code",
   "execution_count": 6,
   "metadata": {
    "ExecuteTime": {
     "end_time": "2019-05-12T20:29:44.361657Z",
     "start_time": "2019-05-12T20:29:44.349691Z"
    }
   },
   "outputs": [
    {
     "name": "stdout",
     "output_type": "stream",
     "text": [
      "shape(U_p0): (30, 5)\n",
      "U_p0:\n",
      "[[ 1.32746126  1.72084833  1.50470189 -0.22057964  1.99695012]\n",
      " [ 2.07937864  1.60588731 -0.76211853  0.5988952  -0.10466286]\n",
      " [-0.1278618  -0.83316982  0.7601145  -0.83803076  1.32530737]\n",
      " [ 0.98681933  2.17010879 -1.44087762  2.33227461  0.41595327]\n",
      " [-1.22935197 -0.80556308  0.31595495 -0.85135792  0.5830098 ]\n",
      " [ 0.33116262  2.05821918  0.34331079 -1.07946618  0.97017753]\n",
      " [ 0.76110353  0.69665701  0.81327256 -0.25553422  0.83633785]\n",
      " [-0.38741596  0.60925271  1.34503267  0.80580177 -0.12883986]\n",
      " [ 0.04398694  1.63297521  0.10342024 -0.56681485 -0.82973235]\n",
      " [-1.65202317  0.7854634   1.27618987  0.65888187  1.16211621]\n",
      " [-0.06002701 -1.25294863  0.11434548 -0.01816204 -2.10116979]\n",
      " [-0.5202865   0.19152351 -1.58221599  0.86010983  0.5882786 ]\n",
      " [-0.31449337  0.22190811 -0.53646167  0.37246431 -1.45621993]\n",
      " [-0.0838626   0.00449677 -0.45086441 -1.10060852  1.38214644]\n",
      " [ 1.41042607 -1.13550378  1.04437471 -1.28253104 -0.18380139]\n",
      " [ 0.55235345  0.18232738  0.26194155 -3.03647488 -1.00200768]\n",
      " [-2.13535479  0.94609545  0.88365318 -0.07132439 -0.08062171]\n",
      " [ 0.46947802 -0.34530873 -0.09585571 -0.90552852  0.20673978]\n",
      " [-0.39317862  0.47448985 -0.47888757  0.72101259 -1.29139535]\n",
      " [ 0.03044722 -1.33560402  0.88923117  0.16278253 -0.2422686 ]\n",
      " [ 0.71456869 -0.66540425  0.38563732 -0.55499     0.94416959]\n",
      " [-0.77417837 -0.07428863  0.89114593 -0.23797018 -1.65834937]\n",
      " [ 1.90312634  0.79051684 -2.33150534 -0.1508944  -0.31835728]\n",
      " [-1.27274813 -1.99426854  0.9050995  -0.82250627  1.41968579]\n",
      " [ 0.56231924  0.16086886 -0.74380316 -1.16827205  1.15317084]\n",
      " [-0.51166981 -0.53329502 -1.26329567  1.69640227  0.08658137]\n",
      " [-0.91329408  0.76434339  0.53343692  1.17921859 -0.87693339]\n",
      " [ 0.34465081 -0.51977926  1.12801816 -2.0051496  -0.20342532]\n",
      " [ 1.15382878 -0.1391333   0.81197298 -1.04926961 -0.24978677]\n",
      " [-1.08421729 -1.14932571  0.23402851 -1.31052534  1.20578401]]\n",
      "\n",
      "shape(U_p1): (5, 5)\n",
      "U_p1:\n",
      "[[ 9.75016014e-01 -1.10858525e-02  1.01067779e-02 -8.15985632e-04\n",
      "   7.46706937e-03]\n",
      " [-1.10858525e-02  1.01542950e+00  2.38351824e-03  1.19607066e-03\n",
      "  -2.00857835e-02]\n",
      " [ 1.01067779e-02  2.38351824e-03  1.00548726e+00 -4.02211710e-03\n",
      "  -1.02181572e-02]\n",
      " [-8.15985632e-04  1.19607066e-03 -4.02211710e-03  1.01593080e+00\n",
      "   8.27170364e-03]\n",
      " [ 7.46706937e-03 -2.00857835e-02 -1.02181572e-02  8.27170364e-03\n",
      "   9.97681004e-01]]\n"
     ]
    }
   ],
   "source": [
    "def U_p0(U, Psi, C):\n",
    "    I = np.identity(nrHidden)\n",
    "    U_hat = np.linalg.inv(Psi) @ U\n",
    "    B = U.T @ U_hat\n",
    "    return C @ (U_hat - U_hat @ np.linalg.inv(I + B) @ B)\n",
    "\n",
    "\n",
    "def U_p1(U, Psi, C):\n",
    "    I = np.identity(nrHidden)\n",
    "    U_hat = np.linalg.inv(Psi) @ U\n",
    "    B = U.T @ U_hat\n",
    "    A = U_hat - U_hat @ np.linalg.inv(I + B) @ B\n",
    "    return A.T @ C @ A + np.linalg.inv(I + B)\n",
    "\n",
    "\n",
    "Up0 = U_p0(U, np.diag(Psi), C)\n",
    "Up1 = U_p1(U, np.diag(Psi), C)\n",
    "\n",
    "print(f'shape(U_p0): {Up0.shape}')\n",
    "print(f'U_p0:\\n{Up0}\\n')\n",
    "\n",
    "print(f'shape(U_p1): {Up1.shape}')\n",
    "print(f'U_p1:\\n{Up1}')"
   ]
  },
  {
   "cell_type": "markdown",
   "metadata": {},
   "source": [
    "<h3 style=\"color:rgb(0,120,170)\">Question 5.5 (10 Points):</h3>\n",
    "\n",
    "In order to verify that your computations are correct, now compare with the usual way of computations (i.e. use equations (1) of the exercise notes) of $\\frac{1}{n} \\sum_{i=1}^n \\mathbf{x}_i \\mathbf{E}_{\\mathbf{y}_i | \\mathbf{x}_i}\\! \\left( \\mathbf{y}_i^T\\right)$ and $\\frac{1}{n} \\sum_{i=1}^n \\mathbf{E}_{\\mathbf{y}_i | \\mathbf{x}_i}\\!\\left( \\mathbf{y}_i \\mathbf{y}_i^T \\right)$ and check, whether there is some difference that may have non-numerical reasons (programming error?)."
   ]
  },
  {
   "cell_type": "markdown",
   "metadata": {},
   "source": [
    "<h3 style=\"color:rgb(208,90,80)\">Answer 5.5:</h3>"
   ]
  },
  {
   "cell_type": "code",
   "execution_count": 7,
   "metadata": {
    "ExecuteTime": {
     "end_time": "2019-05-12T20:29:44.367642Z",
     "start_time": "2019-05-12T20:29:44.362656Z"
    }
   },
   "outputs": [],
   "source": [
    "def U_p0_verify(U, Psi, C):\n",
    "    return C @ np.linalg.inv(U @ U.T + Psi) @ U\n",
    "\n",
    "\n",
    "def U_p1_verify(U, Psi, C):\n",
    "    I = np.identity(nrHidden)\n",
    "    A = np.linalg.inv(U @ U.T + Psi)\n",
    "    return U.T @ A @ C @ A @ U + (I - U.T @ A @ U)"
   ]
  },
  {
   "cell_type": "code",
   "execution_count": 8,
   "metadata": {
    "ExecuteTime": {
     "end_time": "2019-05-12T20:29:44.377615Z",
     "start_time": "2019-05-12T20:29:44.369637Z"
    }
   },
   "outputs": [
    {
     "name": "stdout",
     "output_type": "stream",
     "text": [
      "shape(U_p0_verify): (30, 5)\n",
      "U_p0_verify:\n",
      "[[ 1.32746126  1.72084833  1.50470189 -0.22057964  1.99695012]\n",
      " [ 2.07937864  1.60588731 -0.76211853  0.5988952  -0.10466286]\n",
      " [-0.1278618  -0.83316982  0.7601145  -0.83803076  1.32530737]\n",
      " [ 0.98681933  2.17010879 -1.44087762  2.33227461  0.41595327]\n",
      " [-1.22935197 -0.80556308  0.31595495 -0.85135792  0.5830098 ]\n",
      " [ 0.33116262  2.05821918  0.34331079 -1.07946618  0.97017753]\n",
      " [ 0.76110353  0.69665701  0.81327256 -0.25553422  0.83633785]\n",
      " [-0.38741596  0.60925271  1.34503267  0.80580177 -0.12883986]\n",
      " [ 0.04398694  1.63297521  0.10342024 -0.56681485 -0.82973235]\n",
      " [-1.65202317  0.7854634   1.27618987  0.65888187  1.16211621]\n",
      " [-0.06002701 -1.25294863  0.11434548 -0.01816204 -2.10116979]\n",
      " [-0.5202865   0.19152351 -1.58221599  0.86010983  0.5882786 ]\n",
      " [-0.31449337  0.22190811 -0.53646167  0.37246431 -1.45621993]\n",
      " [-0.0838626   0.00449677 -0.45086441 -1.10060852  1.38214644]\n",
      " [ 1.41042607 -1.13550378  1.04437471 -1.28253104 -0.18380139]\n",
      " [ 0.55235345  0.18232738  0.26194155 -3.03647488 -1.00200768]\n",
      " [-2.13535479  0.94609545  0.88365318 -0.07132439 -0.08062171]\n",
      " [ 0.46947802 -0.34530873 -0.09585571 -0.90552852  0.20673978]\n",
      " [-0.39317862  0.47448985 -0.47888757  0.72101259 -1.29139535]\n",
      " [ 0.03044722 -1.33560402  0.88923117  0.16278253 -0.2422686 ]\n",
      " [ 0.71456869 -0.66540425  0.38563732 -0.55499     0.94416959]\n",
      " [-0.77417837 -0.07428863  0.89114593 -0.23797018 -1.65834937]\n",
      " [ 1.90312634  0.79051684 -2.33150534 -0.1508944  -0.31835728]\n",
      " [-1.27274813 -1.99426854  0.9050995  -0.82250627  1.41968579]\n",
      " [ 0.56231924  0.16086886 -0.74380316 -1.16827205  1.15317084]\n",
      " [-0.51166981 -0.53329502 -1.26329567  1.69640227  0.08658137]\n",
      " [-0.91329408  0.76434339  0.53343692  1.17921859 -0.87693339]\n",
      " [ 0.34465081 -0.51977926  1.12801816 -2.0051496  -0.20342532]\n",
      " [ 1.15382878 -0.1391333   0.81197298 -1.04926961 -0.24978677]\n",
      " [-1.08421729 -1.14932571  0.23402851 -1.31052534  1.20578401]]\n",
      "\n",
      "shape(U_p1_verify): (5, 5)\n",
      "U_p1_verify:\n",
      "[[ 9.75016014e-01 -1.10858525e-02  1.01067779e-02 -8.15985632e-04\n",
      "   7.46706937e-03]\n",
      " [-1.10858525e-02  1.01542950e+00  2.38351824e-03  1.19607066e-03\n",
      "  -2.00857835e-02]\n",
      " [ 1.01067779e-02  2.38351824e-03  1.00548726e+00 -4.02211710e-03\n",
      "  -1.02181572e-02]\n",
      " [-8.15985632e-04  1.19607066e-03 -4.02211710e-03  1.01593080e+00\n",
      "   8.27170364e-03]\n",
      " [ 7.46706937e-03 -2.00857835e-02 -1.02181572e-02  8.27170364e-03\n",
      "   9.97681004e-01]]\n"
     ]
    }
   ],
   "source": [
    "Up0_verify = U_p0_verify(U, np.diag(Psi), C)\n",
    "Up1_verify = U_p1_verify(U, np.diag(Psi), C)\n",
    "\n",
    "print(f'shape(U_p0_verify): {Up0_verify.shape}')\n",
    "print(f'U_p0_verify:\\n{Up0_verify}\\n')\n",
    "\n",
    "print(f'shape(U_p1_verify): {Up1_verify.shape}')\n",
    "print(f'U_p1_verify:\\n{Up1_verify}')"
   ]
  },
  {
   "cell_type": "code",
   "execution_count": 9,
   "metadata": {
    "ExecuteTime": {
     "end_time": "2019-05-12T20:29:44.382602Z",
     "start_time": "2019-05-12T20:29:44.378613Z"
    }
   },
   "outputs": [
    {
     "name": "stdout",
     "output_type": "stream",
     "text": [
      "U_p0 and U_p0_verify close up to 6 decimal places? True\n",
      "U_p1 and U_p1_verify close up to 6 decimal places? True\n"
     ]
    }
   ],
   "source": [
    "print(f'U_p0 and U_p0_verify close up to 6 decimal places? {np.allclose(Up0, Up0_verify, atol=1e-6)}')\n",
    "print(f'U_p1 and U_p1_verify close up to 6 decimal places? {np.allclose(Up1, Up1_verify, atol=1e-6)}')"
   ]
  },
  {
   "cell_type": "markdown",
   "metadata": {},
   "source": [
    "<h3 style=\"color:rgb(0,120,170)\">Question 5.6 (10 Points):</h3>\n",
    "\n",
    "Now you are ready to compute the updates for the M step. For the M step use the formulas that are based on the matrix inversion lemma (Hint: use the terms, from above as well as the covariance matrix, that you already computed):"
   ]
  },
  {
   "cell_type": "markdown",
   "metadata": {},
   "source": [
    "<h3 style=\"color:rgb(208,90,80)\">Answer 5.6:</h3>"
   ]
  },
  {
   "cell_type": "code",
   "execution_count": 10,
   "metadata": {
    "ExecuteTime": {
     "end_time": "2019-05-12T20:29:44.389583Z",
     "start_time": "2019-05-12T20:29:44.383600Z"
    }
   },
   "outputs": [],
   "source": [
    "def U_new(U, Psi, C, U_p0=None, U_p1=None):\n",
    "    if U_p0 is None and U_p1 is None:\n",
    "        I = np.identity(nrHidden)\n",
    "        U_hat = np.linalg.inv(Psi) @ U\n",
    "        B = U.T @ U_hat\n",
    "        A = U_hat - U_hat @ np.linalg.inv(I + B) @ B\n",
    "\n",
    "    if U_p0 is None:\n",
    "        U_p0 = C @ A\n",
    "\n",
    "    if U_p1 is None:\n",
    "        U_p1 = A.T @ C @ A + np.linalg.inv(I + B)\n",
    "    return U_p0 @ np.linalg.inv(U_p1)\n",
    "\n",
    "\n",
    "def Psi_new(U, Psi, C, U_p0=None, U_new=None):\n",
    "    if U_p0 is None:\n",
    "        U_p0 = U_p0(U, Psi, C)\n",
    "    if U_new is None:\n",
    "        U_new = U_new(U, Psi, C)\n",
    "\n",
    "    return np.diag(C - U_p0 @ U_new.T)"
   ]
  },
  {
   "cell_type": "code",
   "execution_count": 11,
   "metadata": {
    "ExecuteTime": {
     "end_time": "2019-05-12T20:29:44.399594Z",
     "start_time": "2019-05-12T20:29:44.390580Z"
    }
   },
   "outputs": [
    {
     "name": "stdout",
     "output_type": "stream",
     "text": [
      "shape(U_old): (30, 5)\n",
      "U_old:\n",
      "[[ 1.34016346  1.73759123  1.49898834 -0.22864333  2.031034  ]\n",
      " [ 2.17032495  1.59645265 -0.76945156  0.56605824 -0.11927018]\n",
      " [-0.1465108  -0.79890338  0.77183278 -0.82819136  1.32667483]\n",
      " [ 1.05986776  2.14408873 -1.43464512  2.28743654  0.42864858]\n",
      " [-1.27735774 -0.81239806  0.29888126 -0.83479401  0.57234671]\n",
      " [ 0.34436419  2.06583253  0.34092975 -1.06248478  1.04470276]\n",
      " [ 0.76049958  0.72027479  0.81431707 -0.26817228  0.86148846]\n",
      " [-0.4036122   0.57010427  1.35185359  0.80588592 -0.11784617]\n",
      " [ 0.06192517  1.56967617  0.09135511 -0.55761771 -0.80353874]\n",
      " [-1.70423671  0.76773378  1.28106105  0.64261379  1.21378137]\n",
      " [-0.05858236 -1.28087238  0.11330281  0.00876557 -2.15009066]\n",
      " [-0.52745637  0.1960846  -1.54752551  0.84530456  0.57418049]\n",
      " [-0.31176006  0.17788991 -0.54071305  0.37785798 -1.45473663]\n",
      " [-0.07598855  0.03690977 -0.41350682 -1.08373066  1.39172053]\n",
      " [ 1.41778778 -1.11864984  1.00605157 -1.24514983 -0.17587852]\n",
      " [ 0.5796579   0.1359769   0.21919628 -2.98217483 -0.98510605]\n",
      " [-2.19716644  0.89122782  0.91537827 -0.07802471 -0.01980779]\n",
      " [ 0.47181786 -0.31771784 -0.10651139 -0.89640062  0.20599942]\n",
      " [-0.42035958  0.42846667 -0.48902436  0.70788636 -1.30682461]\n",
      " [ 0.00817764 -1.33378803  0.883597    0.14904504 -0.25992124]\n",
      " [ 0.71057822 -0.6230463   0.38549998 -0.55378453  0.91377942]\n",
      " [-0.7867588  -0.12105161  0.86425915 -0.22071134 -1.636991  ]\n",
      " [ 1.97603285  0.79536277 -2.34691267 -0.14888169 -0.33265213]\n",
      " [-1.39349301 -1.94559948  0.95217779 -0.81603636  1.41732006]\n",
      " [ 0.58248358  0.15837651 -0.75287645 -1.18620725  1.13278804]\n",
      " [-0.528654   -0.54154509 -1.2379724   1.65643251  0.05103029]\n",
      " [-0.92768023  0.73740006  0.52087094  1.17414596 -0.87328811]\n",
      " [ 0.32666586 -0.50365941  1.12047561 -1.95909712 -0.19167968]\n",
      " [ 1.19125004 -0.11717311  0.80043987 -1.02069145 -0.23187897]\n",
      " [-1.14966005 -1.12465511  0.273953   -1.30774069  1.19544819]]\n",
      "\n",
      "shape(U_new): (30, 5)\n",
      "U_new:\n",
      "[[ 1.34995630e+00  1.74661920e+00  1.49863629e+00 -2.28801022e-01\n",
      "   2.04389778e+00]\n",
      " [ 2.16027823e+00  1.60420403e+00 -7.82161141e-01  5.87081463e-01\n",
      "  -1.01656262e-01]\n",
      " [-1.59044377e-01 -7.96797967e-01  7.69625130e-01 -8.31847430e-01\n",
      "   1.32831596e+00]\n",
      " [ 1.05021941e+00  2.15756236e+00 -1.43528865e+00  2.28491297e+00\n",
      "   4.18852733e-01]\n",
      " [-1.27854386e+00 -7.95431130e-01  3.31579735e-01 -8.41575377e-01\n",
      "   5.88293568e-01]\n",
      " [ 3.50722917e-01  2.05148440e+00  3.39162889e-01 -1.07166294e+00\n",
      "   1.02346784e+00]\n",
      " [ 7.73533204e-01  7.09878094e-01  8.07064975e-01 -2.55525498e-01\n",
      "   8.57168396e-01]\n",
      " [-4.03068916e-01  5.89384100e-01  1.34245157e+00  7.98335425e-01\n",
      "  -1.07126510e-01]\n",
      " [ 6.79428281e-02  1.59363068e+00  8.81083468e-02 -5.52929819e-01\n",
      "  -7.94599056e-01]\n",
      " [-1.70767575e+00  7.74839326e-01  1.29932699e+00  6.41630177e-01\n",
      "   1.20118570e+00]\n",
      " [-6.07599223e-02 -1.27693887e+00  9.57150707e-02  1.30145813e-03\n",
      "  -2.13033739e+00]\n",
      " [-5.18913265e-01  1.96991280e-01 -1.55965248e+00  8.35120643e-01\n",
      "   5.74597931e-01]\n",
      " [-3.03269183e-01  1.87135794e-01 -5.44285636e-01  3.75910655e-01\n",
      "  -1.46225862e+00]\n",
      " [-9.26683081e-02  3.32572845e-02 -4.37798313e-01 -1.09652494e+00\n",
      "   1.39132953e+00]\n",
      " [ 1.42385590e+00 -1.10750529e+00  1.01997573e+00 -1.25433548e+00\n",
      "  -1.96336076e-01]\n",
      " [ 5.71020127e-01  1.69407324e-01  2.32511453e-01 -2.97971645e+00\n",
      "  -9.78113919e-01]\n",
      " [-2.18886860e+00  9.05075550e-01  8.98040019e-01 -6.91775576e-02\n",
      "  -3.64340806e-02]\n",
      " [ 4.76501761e-01 -3.29548356e-01 -1.00844714e-01 -8.92613462e-01\n",
      "   2.03387115e-01]\n",
      " [-3.82753819e-01  4.37803041e-01 -4.83740817e-01  7.17501051e-01\n",
      "  -1.29362148e+00]\n",
      " [ 9.15612364e-03 -1.32266460e+00  8.85430464e-01  1.67431911e-01\n",
      "  -2.61848424e-01]\n",
      " [ 7.14096149e-01 -6.29220566e-01  3.85162923e-01 -5.51075942e-01\n",
      "   9.36865579e-01]\n",
      " [-7.91989598e-01 -1.16203027e-01  8.76901594e-01 -2.17849581e-01\n",
      "  -1.64782856e+00]\n",
      " [ 1.98776307e+00  7.99154088e-01 -2.34473530e+00 -1.54382122e-01\n",
      "  -3.40620176e-01]\n",
      " [-1.34867149e+00 -1.95201780e+00  9.29408439e-01 -8.16194850e-01\n",
      "   1.41006671e+00]\n",
      " [ 5.76719020e-01  1.90718746e-01 -7.38879126e-01 -1.16206285e+00\n",
      "   1.15744153e+00]\n",
      " [-5.16927944e-01 -5.28820998e-01 -1.24274961e+00  1.66465290e+00\n",
      "   5.34754041e-02]\n",
      " [-9.26435495e-01  7.22940322e-01  5.34040542e-01  1.16826229e+00\n",
      "  -8.61699698e-01]\n",
      " [ 3.35954738e-01 -5.12241444e-01  1.10991046e+00 -1.96690054e+00\n",
      "  -1.89050234e-01]\n",
      " [ 1.17475548e+00 -1.29687396e-01  7.89442896e-01 -1.02659815e+00\n",
      "  -2.45173811e-01]\n",
      " [-1.13769713e+00 -1.11945545e+00  2.53922366e-01 -1.29840051e+00\n",
      "   1.20792992e+00]]\n"
     ]
    }
   ],
   "source": [
    "# just to save inital U\n",
    "U_old = U.copy()\n",
    "\n",
    "print(f'shape(U_old): {U_old.shape}')\n",
    "print(f'U_old:\\n{U_old}\\n')\n",
    "\n",
    "U_n = U_new(U_old, np.diag(Psi), C, Up0, Up1)\n",
    "\n",
    "print(f'shape(U_new): {U_n.shape}')\n",
    "print(f'U_new:\\n{U_n}')"
   ]
  },
  {
   "cell_type": "code",
   "execution_count": 12,
   "metadata": {
    "ExecuteTime": {
     "end_time": "2019-05-12T20:29:44.406577Z",
     "start_time": "2019-05-12T20:29:44.400555Z"
    }
   },
   "outputs": [
    {
     "name": "stdout",
     "output_type": "stream",
     "text": [
      "shape(Psi_old): (30,)\n",
      "Psi_old:\n",
      "[1.36354703 2.77940031 1.94584432 2.34739154 2.37565545 1.99050676\n",
      " 1.44682888 1.57119211 2.96783968 1.92390528 1.46227318 2.25626635\n",
      " 2.58489035 2.40588902 1.12257041 2.92203656 1.71089475 1.12805011\n",
      " 1.8902346  1.21847939 1.17162538 2.90241016 1.84265298 2.95041401\n",
      " 2.79180308 1.75455069 1.92100126 1.61095197 2.22291012 2.71623178]\n",
      "\n",
      "shape(Psi_new): (30,)\n",
      "Psi_new:\n",
      "[1.3874741  2.77121038 1.90762058 2.35108012 2.37356695 1.95529624\n",
      " 1.44633168 1.57809141 2.93134715 1.89801847 1.45840412 2.21575989\n",
      " 2.64288411 2.4152902  1.1210844  2.91189748 1.69921105 1.11763679\n",
      " 1.89875741 1.22954832 1.18737245 2.92515575 1.86642253 2.89987529\n",
      " 2.85195744 1.75412448 1.90148948 1.64168438 2.29678644 2.70649004]\n"
     ]
    }
   ],
   "source": [
    "# just to save inital Psi\n",
    "Psi_old = Psi.copy()\n",
    "\n",
    "print(f'shape(Psi_old): {Psi_old.shape}')\n",
    "print(f'Psi_old:\\n{Psi_old}\\n')\n",
    "\n",
    "Psi_n = Psi_new(U, np.diag(Psi_old), C, Up0, U_n)\n",
    "\n",
    "print(f'shape(Psi_new): {Psi_n.shape}')\n",
    "print(f'Psi_new:\\n{Psi_n}')"
   ]
  },
  {
   "cell_type": "markdown",
   "metadata": {},
   "source": [
    "<h3 style=\"color:rgb(0,120,170)\">Question 5.7 (10 Points):</h3>\n",
    "\n",
    "Now create a function `factorAnalysis(X, nrHidden, it)`, which takes a data matrix `X`, the number of hidden factors `nrHidden` and the number of iterations `it`, that you want to run the EM algorithm for. The function should implement the EM algorithm for maximum likelihood factor analysis based on the exercise notes (or lecture notes) and finally return the found parameters of the factor analysis model as well as the mean of the hidden factors for each sample (= $\\mathbf{E}_{\\mathbf{y}_i | \\mathbf{x}_i} \\left( \\mathbf{y}_i \\right)$). Use the matrix inversion lemma to obtain speedup (consider you have a case, where such a speedup is possible!).\n",
    "\n",
    "Use random initializations that may make sense for the parameters of your factor analysis model (e.g. look that you don't have negative $\\mathbf{\\Psi}$-entries, also zero-entries may cause problems, further consider to fullfil the equation $\\frac{1}{n}\\mathbf{X}^T\\mathbf{X}=\\mathbf{U} \\mathbf{U}^T+\\mathbf{\\Psi}$ at the diagonal at initialization by scaling the randomly drawn numbers accordingly, e.g. take 75% of the diagonal for the part corresponding to $\\mathbf{U} \\mathbf{U}^T$ and the other 25% for $\\mathbf{\\Psi}$).\n",
    "\n",
    "Hint: The most difficult thing is probably to copy together all expressions from above."
   ]
  },
  {
   "cell_type": "markdown",
   "metadata": {},
   "source": [
    "<h3 style=\"color:rgb(208,90,80)\">Answer 5.7:</h3>"
   ]
  },
  {
   "cell_type": "code",
   "execution_count": 13,
   "metadata": {
    "ExecuteTime": {
     "end_time": "2019-05-12T20:29:44.413533Z",
     "start_time": "2019-05-12T20:29:44.407535Z"
    }
   },
   "outputs": [],
   "source": [
    "def factorAnalysis(X, nrHidden, it):\n",
    "    C = scale_CMat(X)\n",
    "    X_scaled = X - X.mean(axis=0)\n",
    "    \n",
    "    U = np.random.uniform(0.5, 5, size=(X.shape[1], nrHidden))\n",
    "    Psi = np.random.uniform(0.5, 3, size=X.shape[1])\n",
    "    Psi_d = np.diag(Psi)\n",
    "    \n",
    "    for _ in range(it):\n",
    "        # E-step\n",
    "        Up0 = U_p0(U, Psi_d, C)\n",
    "        hidden_factors_mean = np.mean(Up0.T @ X_scaled.T, axis=0)\n",
    "        Up1 = U_p1(U, Psi_d, C)\n",
    "        \n",
    "        # M-step\n",
    "        U_n = U_new(U, Psi_d, C, Up0, Up1)\n",
    "        Psi_n = Psi_new(U, Psi_d, C, Up0, U_n)\n",
    "        \n",
    "        # updating refs\n",
    "        U = U_n\n",
    "        Psi = Psi_n\n",
    "        Psi_d = np.diag(Psi)\n",
    "    \n",
    "    return U, Psi, hidden_factors_mean"
   ]
  },
  {
   "cell_type": "markdown",
   "metadata": {},
   "source": [
    "<h3 style=\"color:rgb(0,120,170)\">Question 5.8 (10 Points):</h3>\n",
    "\n",
    "Now, apply your Factor analysis EM algorithm to your generated toy data and try to do some comparison of the toy data generation parameters with the found factor analysis parameters (e.g. compute noise covariance matrix, compute correlations between generation parameters and found parameters of the factor loading matrices). What could be reasons that the original gerneration parameters cannot be found exactly?"
   ]
  },
  {
   "cell_type": "markdown",
   "metadata": {},
   "source": [
    "<h3 style=\"color:rgb(208,90,80)\">Answer 5.8:</h3>"
   ]
  },
  {
   "cell_type": "code",
   "execution_count": 14,
   "metadata": {
    "ExecuteTime": {
     "end_time": "2019-05-12T20:29:45.217212Z",
     "start_time": "2019-05-12T20:29:44.414516Z"
    }
   },
   "outputs": [
    {
     "data": {
      "image/png": "[encoded data removed]",
      "text/plain": [
       "<Figure size 1152x720 with 3 Axes>"
      ]
     },
     "metadata": {
      "needs_background": "light"
     },
     "output_type": "display_data"
    }
   ],
   "source": [
    "from sklearn.decomposition import FactorAnalysis\n",
    "\n",
    "# sklearn's Version of Factor Analysis\n",
    "fa = FactorAnalysis(nrHidden,\n",
    "                    random_state=0,\n",
    "                    noise_variance_init=Psi,\n",
    "                    max_iter=100)\n",
    "fa.fit(X - np.mean(X, axis=0))\n",
    "X_transformed = fa.transform(X - np.mean(X, axis=0))\n",
    "\n",
    "# Own Version\n",
    "U_calc, Psi_calc, hidden_factor_means = factorAnalysis(X, nrHidden, it=100)\n",
    "\n",
    "# Comparison\n",
    "_, (ax_sk, ax_fa) = plt.subplots(1, 2, figsize=(16, 10))\n",
    "ax_sk.matshow(np.corrcoef(U, fa.components_.T), cmap=plt.get_cmap('plasma'))\n",
    "ax_sk.set_title('Sklearn Factor Analysis')\n",
    "\n",
    "cbar = ax_fa.matshow(np.corrcoef(U, U_calc), cmap=plt.get_cmap('plasma'))\n",
    "ax_fa.set_title('Own Factor Analysis')\n",
    "\n",
    "plt.colorbar(cbar)\n",
    "plt.show()"
   ]
  },
  {
   "cell_type": "markdown",
   "metadata": {},
   "source": [
    "Estimation of $\\psi$:"
   ]
  },
  {
   "cell_type": "code",
   "execution_count": 15,
   "metadata": {
    "ExecuteTime": {
     "end_time": "2019-05-12T20:29:45.222199Z",
     "start_time": "2019-05-12T20:29:45.218208Z"
    },
    "scrolled": true
   },
   "outputs": [
    {
     "name": "stdout",
     "output_type": "stream",
     "text": [
      "Psi's matching to one decimal place?\n",
      "True\n",
      "Psi's from sklearn matching to two decimal places compared to own Psi's?\n",
      "True\n"
     ]
    }
   ],
   "source": [
    "print(\"Psi's matching to one decimal place?\")\n",
    "print(np.allclose(fa.noise_variance_, Psi_calc, atol=0.1))\n",
    "print(\"Psi's from sklearn matching to two decimal places compared to own Psi's?\")\n",
    "print(np.allclose(fa.noise_variance_, Psi_calc, atol=0.01))"
   ]
  },
  {
   "cell_type": "markdown",
   "metadata": {},
   "source": [
    "Estimation of $U$:"
   ]
  },
  {
   "cell_type": "code",
   "execution_count": 16,
   "metadata": {
    "ExecuteTime": {
     "end_time": "2019-05-12T20:29:45.229179Z",
     "start_time": "2019-05-12T20:29:45.223196Z"
    },
    "scrolled": true
   },
   "outputs": [
    {
     "name": "stdout",
     "output_type": "stream",
     "text": [
      "[[-0.34115487  1.11397186  1.40846529 -2.95182618  1.30350465]\n",
      " [ 0.57971395  2.1750171  -2.97330715  0.02976083 -0.34254693]\n",
      " [-0.43923419 -0.64605424  2.51572417 -1.58186897  1.16831566]\n",
      " [ 0.58194246  2.44760026 -4.40404571  1.93987045 -1.59727441]\n",
      " [-0.89346987 -1.30082264  1.99955319 -0.53651414  0.43657357]\n",
      " [-1.49639076  0.58590669  0.16791004 -1.94492819  0.54487024]\n",
      " [-0.09575489  0.4998019   0.84187754 -1.58611279  0.76473007]\n",
      " [ 0.50267591 -0.23898338  0.94983275 -0.34741522 -0.04639604]\n",
      " [-0.67929082  0.2228535  -0.89260407 -0.44836717 -0.29557161]\n",
      " [-0.65222516 -0.807439    1.89920998 -0.53857969 -0.03726953]\n",
      " [ 1.09501153 -0.7538237  -0.08674561  1.04169898 -0.31014383]\n",
      " [-0.41363659  0.53205657 -2.00551756  1.78194979 -1.05193409]\n",
      " [ 0.27515009 -0.05222607 -1.53462081  1.38924911 -0.91854995]\n",
      " [-1.25250847 -0.05891275  0.74701539 -1.00950141  0.61750557]\n",
      " [ 0.63996611 -0.21329844  1.9639169  -1.98692986  1.5872464 ]\n",
      " [-1.3193799  -0.73081584  1.15923427 -2.25755267  1.18264695]\n",
      " [-1.14972961 -1.31720822  1.36172505 -0.10353687 -0.42562316]\n",
      " [-0.30479411 -0.01856345  0.4800743  -0.79880899  0.59852931]\n",
      " [ 0.29803018  0.08887769 -1.69822437  1.50376577 -1.08590166]\n",
      " [ 0.94120285 -0.66789307  1.61571851 -0.26443472  0.53260295]\n",
      " [ 0.0664116   0.07875526  1.31405807 -1.25901015  0.97809364]\n",
      " [ 0.26540704 -1.05022797  0.75424521  0.12863648 -0.19036812]\n",
      " [-0.05939585  2.02023891 -4.06055524  1.0113473  -0.61470859]\n",
      " [-0.57815587 -1.7380166   3.83401925 -1.11305887  1.16684874]\n",
      " [-1.06721862  0.39093219 -0.05294352 -1.04006079  0.58989556]\n",
      " [ 0.62347851  0.37806243 -1.90756558  2.46752156 -1.24201091]\n",
      " [ 0.42632026 -0.22685472 -0.49751005  1.03596142 -0.93799703]\n",
      " [-0.52089522 -0.88634013  2.52549451 -2.29976641  1.4410254 ]\n",
      " [ 0.26580577  0.10000047  1.08839577 -1.68269435  1.07768228]\n",
      " [-1.20467905 -1.33736148  2.63117648 -1.08512745  0.87886468]]\n"
     ]
    }
   ],
   "source": [
    "print(U - U_calc)"
   ]
  },
  {
   "cell_type": "code",
   "execution_count": 17,
   "metadata": {
    "ExecuteTime": {
     "end_time": "2019-05-12T20:29:45.361708Z",
     "start_time": "2019-05-12T20:29:45.230176Z"
    }
   },
   "outputs": [
    {
     "name": "stdout",
     "output_type": "stream",
     "text": [
      "Difference: Actual U - Own U\n"
     ]
    },
    {
     "data": {
      "image/png": "[encoded data removed]",
      "text/plain": [
       "<Figure size 1152x216 with 2 Axes>"
      ]
     },
     "metadata": {
      "needs_background": "light"
     },
     "output_type": "display_data"
    }
   ],
   "source": [
    "print('Difference: Actual U - Own U')\n",
    "\n",
    "plt.figure(figsize=(16, 3))\n",
    "# Transpose for better plotting\n",
    "colors = plt.matshow((U_calc - U).T, cmap=plt.get_cmap('plasma'), fignum=1)\n",
    "plt.yticks(range(0, 5), range(1, 6))\n",
    "plt.ylabel('Hidden')\n",
    "plt.xlabel('Features')\n",
    "plt.colorbar(colors)\n",
    "plt.show()"
   ]
  },
  {
   "cell_type": "code",
   "execution_count": 18,
   "metadata": {
    "ExecuteTime": {
     "end_time": "2019-05-12T20:29:45.494325Z",
     "start_time": "2019-05-12T20:29:45.362678Z"
    }
   },
   "outputs": [
    {
     "name": "stdout",
     "output_type": "stream",
     "text": [
      "Difference: sklearn U - Own U\n"
     ]
    },
    {
     "data": {
      "image/png": "[encoded data removed]",
      "text/plain": [
       "<Figure size 1152x216 with 2 Axes>"
      ]
     },
     "metadata": {
      "needs_background": "light"
     },
     "output_type": "display_data"
    }
   ],
   "source": [
    "print('Difference: sklearn U - Own U')\n",
    "\n",
    "plt.figure(figsize=(16, 3))\n",
    "# Transpose for better plotting\n",
    "colors = plt.matshow((U_calc - fa.components_.T).T,\n",
    "                     cmap=plt.get_cmap('plasma'),\n",
    "                     fignum=1)\n",
    "plt.yticks(range(0, 5), range(1, 6))\n",
    "plt.ylabel('Hidden')\n",
    "plt.xlabel('Features')\n",
    "plt.colorbar(colors)\n",
    "plt.show()"
   ]
  },
  {
   "cell_type": "code",
   "execution_count": 19,
   "metadata": {
    "ExecuteTime": {
     "end_time": "2019-05-12T20:29:45.651013Z",
     "start_time": "2019-05-12T20:29:45.495325Z"
    }
   },
   "outputs": [
    {
     "name": "stdout",
     "output_type": "stream",
     "text": [
      "Difference: Actual U - sklearn U\n"
     ]
    },
    {
     "data": {
      "image/png": "[encoded data removed]",
      "text/plain": [
       "<Figure size 1152x216 with 2 Axes>"
      ]
     },
     "metadata": {
      "needs_background": "light"
     },
     "output_type": "display_data"
    }
   ],
   "source": [
    "print('Difference: Actual U - sklearn U')\n",
    "\n",
    "plt.figure(figsize=(16, 3))\n",
    "# Transpose for better plotting\n",
    "colors = plt.matshow((U - fa.components_.T).T,\n",
    "                     cmap=plt.get_cmap('plasma'),\n",
    "                     fignum=1)\n",
    "plt.yticks(range(0, 5), range(1, 6))\n",
    "plt.ylabel('Hidden')\n",
    "plt.xlabel('Features')\n",
    "plt.colorbar(colors)\n",
    "plt.show()"
   ]
  },
  {
   "cell_type": "markdown",
   "metadata": {},
   "source": [
    "# Exercise B: Theory"
   ]
  },
  {
   "cell_type": "markdown",
   "metadata": {},
   "source": [
    "<h3 style=\"color:rgb(0,120,170)\">Question 5.9 (10 Points):</h3>\n",
    "\n",
    "Discuss how the mean (before centering) and the found maximum likelihood model parameters of the centered data (factor loading matrix and covariance matrix) will change, if the individual components of the data are scaled with some value (not the same value over the components)."
   ]
  },
  {
   "cell_type": "markdown",
   "metadata": {},
   "source": [
    "<h3 style=\"color:rgb(208,90,80)\">Answer 5.9:</h3>"
   ]
  },
  {
   "cell_type": "code",
   "execution_count": 20,
   "metadata": {
    "ExecuteTime": {
     "end_time": "2019-05-12T20:29:45.970684Z",
     "start_time": "2019-05-12T20:29:45.652938Z"
    }
   },
   "outputs": [],
   "source": [
    "def wildly_scale(X):\n",
    "    X_scaled = X.copy()\n",
    "    for i in range(X_scaled.shape[1]):\n",
    "        X_scaled[:, i] = X_scaled[:, i] * np.random.uniform(0.1, 10)\n",
    "    return X_scaled\n",
    "\n",
    "U_a, Psi_a, hidden_factor_means_a = factorAnalysis(X, nrHidden, 100)\n",
    "U_b, Psi_b, hidden_factor_means_b = factorAnalysis(wildly_scale(X), nrHidden, 100)"
   ]
  },
  {
   "cell_type": "code",
   "execution_count": 21,
   "metadata": {
    "ExecuteTime": {
     "end_time": "2019-05-12T20:29:45.977665Z",
     "start_time": "2019-05-12T20:29:45.971681Z"
    }
   },
   "outputs": [
    {
     "data": {
      "text/plain": [
       "array([[-2.32525155e+01, -5.14229161e+00, -9.93876080e+00,\n",
       "        -9.53800774e+00,  2.02126845e+00],\n",
       "       [-1.10138440e-01, -7.30174968e+00,  1.04018864e+00,\n",
       "        -6.28642601e+00,  3.72802666e+00],\n",
       "       [-2.88422763e+00,  1.78324859e+00,  5.14817085e-01,\n",
       "         1.80938818e+00, -8.91962662e-01],\n",
       "       [-1.63719612e+00, -9.17413666e+00, -3.15412065e-01,\n",
       "        -1.95649184e+00,  1.16233826e+01],\n",
       "       [-8.48887026e-01,  2.78904833e+00, -6.45849412e-01,\n",
       "         4.66918859e+00, -2.91042665e+00],\n",
       "       [-9.70442706e+00, -1.37485911e+01, -1.32368800e+01,\n",
       "        -1.35989763e+00, -4.47264791e+00],\n",
       "       [-5.13864606e+00, -8.94143477e-01, -1.55400443e+00,\n",
       "        -2.94733613e+00,  1.09849515e-01],\n",
       "       [-7.93951661e-01,  2.40462057e+00, -3.65635782e-01,\n",
       "        -1.61214489e-01,  2.50412965e-01],\n",
       "       [ 6.77158219e+00, -8.15682693e+00, -1.27940875e+01,\n",
       "        -4.39834280e+00, -2.96919535e+00],\n",
       "       [-5.46759987e+00,  5.93316091e+00, -5.73550391e+00,\n",
       "         7.45275705e+00,  1.33836023e+00],\n",
       "       [ 1.62382877e+01,  9.30680065e+00,  3.80755592e+00,\n",
       "        -6.06779312e+00, -4.56484888e+00],\n",
       "       [-2.97096875e-01, -3.88554404e+00,  1.50473107e+00,\n",
       "         4.47670541e+00,  2.96767655e+00],\n",
       "       [ 1.37727278e+01, -6.85600082e-01, -2.21665120e+00,\n",
       "        -1.05539341e+00,  2.23499359e+00],\n",
       "       [-1.67805763e+00, -2.45211721e+00,  4.28608413e-01,\n",
       "         2.75966146e+00, -1.11539430e+00],\n",
       "       [-2.79819834e+00,  4.82889815e+00,  6.20473327e+00,\n",
       "        -1.44405778e+01, -1.22680625e+01],\n",
       "       [ 8.79403977e+00, -9.39042731e+00, -4.25553189e+00,\n",
       "        -8.62427301e+00, -2.62872159e+01],\n",
       "       [ 1.44767356e+00,  8.50282538e+00, -1.77502670e+01,\n",
       "         1.62764898e+01, -3.36215172e+00],\n",
       "       [-6.17411543e-02, -1.26505438e+00,  8.96204396e-01,\n",
       "        -8.42313422e-01, -1.46912433e+00],\n",
       "       [ 1.34337799e+01, -4.26219800e-01, -4.19006397e+00,\n",
       "        -1.75052018e-01,  6.06916277e+00],\n",
       "       [-7.84115887e-01,  3.76761993e+00,  7.38553169e-01,\n",
       "        -1.05474912e+00,  1.59498078e-02],\n",
       "       [-7.72879826e+00,  5.51247374e-01,  4.77851279e+00,\n",
       "        -2.63061572e+00, -3.12362637e+00],\n",
       "       [ 3.46444506e+00,  3.86109023e+00, -2.41023791e+00,\n",
       "        -1.39096683e+00, -2.16528050e+00],\n",
       "       [ 8.14427013e-01, -3.62502833e+00,  6.34849184e-01,\n",
       "        -9.89814849e-01, -1.05017358e-01],\n",
       "       [-6.78561011e-01,  1.91801350e+00, -1.42381691e+00,\n",
       "         1.80361341e+00,  1.04059424e+00],\n",
       "       [-3.85303777e+00, -7.78267457e+00,  2.52909245e+00,\n",
       "         1.22115560e+00, -2.79702737e+00],\n",
       "       [ 1.91986334e+00,  9.29412813e-02,  6.14691359e+00,\n",
       "         6.38228814e+00,  1.09553663e+01],\n",
       "       [ 3.69201813e+00,  5.17557995e+00, -6.17636903e+00,\n",
       "         1.42718577e+00,  4.09273203e+00],\n",
       "       [ 2.03822388e-01,  2.19709677e+00, -1.04398436e+00,\n",
       "        -3.33780494e+00, -8.59461675e+00],\n",
       "       [-4.68788188e-02,  8.01497869e-02,  3.14664587e-01,\n",
       "        -4.93675812e+00, -2.27671207e+00],\n",
       "       [-6.49744413e+00,  3.90874997e+00,  3.10213393e+00,\n",
       "         1.14948049e+01, -1.00343440e+01]])"
      ]
     },
     "execution_count": 21,
     "metadata": {},
     "output_type": "execute_result"
    }
   ],
   "source": [
    "U_a - U_b"
   ]
  },
  {
   "cell_type": "code",
   "execution_count": 22,
   "metadata": {
    "ExecuteTime": {
     "end_time": "2019-05-12T20:29:45.983650Z",
     "start_time": "2019-05-12T20:29:45.978664Z"
    }
   },
   "outputs": [
    {
     "data": {
      "text/plain": [
       "array([-111.73555665,  -23.96851751,   -7.27796181,  -40.56987566,\n",
       "        -19.02730155, -162.98417615,  -28.28983732,   -0.47028631,\n",
       "       -244.65389253,  -31.25377505,  -99.89708559,  -20.66976322,\n",
       "       -203.23629709,  -10.19003828,  -84.17771951, -258.24546311,\n",
       "       -159.39380646,   -6.93119444, -178.95716261,   -4.15312383,\n",
       "        -58.95627255,  -13.82467863,    1.77101304,    2.64730737,\n",
       "        -70.34934525,  -82.8382691 ,  -56.00622739,  -31.79700342,\n",
       "        -20.06853726, -141.65648973])"
      ]
     },
     "execution_count": 22,
     "metadata": {},
     "output_type": "execute_result"
    }
   ],
   "source": [
    "Psi_a - Psi_b"
   ]
  },
  {
   "cell_type": "markdown",
   "metadata": {},
   "source": [
    "<h3 style=\"color:rgb(0,120,170)\">Question 5.10 (10 Points):</h3>\n",
    "\n",
    "Assume a rotation of the factors with rotation matrix $\\mathbf{R}$, obeying $\\mathbf{R}^T\\mathbf{R} = \\mathbf{I}$. Derive an expression for the noise covariance matrix $\\mathbf{\\Psi}$ (only in terms of $\\mathbf{U}_{rot}$, the data $\\mathbf{X}$, the number of samples $n$, and basic matrix and arithmetic operations), if rotated factors $\\mathbf{y}_{rot} \\; = \\;  \\mathbf{R}\\ \\mathbf{y}$ instead of $\\mathbf{y}$ are assumed and the factor loading matrix changes accordingly ($\\mathbf{U} \\; = \\;  \\mathbf{U}_{rot} \\mathbf{R}$).\n",
    "\n",
    "Hint: Consider slide 6 of the exercise notes.\n"
   ]
  },
  {
   "cell_type": "markdown",
   "metadata": {},
   "source": [
    "<h3 style=\"color:rgb(208,90,80)\">Answer 5.10:</h3>"
   ]
  },
  {
   "cell_type": "markdown",
   "metadata": {},
   "source": [
    "see [Properties of a rotation matrix](https://en.wikipedia.org/wiki/Rotation_matrix#Properties_of_a_rotation_matrix)\n",
    "\n",
    "\\begin{align*}\n",
    "\\frac{1}{n} X^T X &= \\frac{1}{n} \\big(Y_{rot} U^T + \\Upsilon \\big)^T \\big(Y_{rot} U^T + \\Upsilon) \\\\\n",
    "&= U \\frac{1}{n} Y_{rot}^T Y_{rot} U^T + \\frac{1}{n} U Y_{rot}^T \\Upsilon + \\frac{1}{n} \\Upsilon^T Y_{rot} U^T + \\underbrace{\\frac{1}{n} \\Upsilon^T \\Upsilon}_{\\psi} \\\\\n",
    "\\psi &= \\frac{1}{n} X^T X - U \\frac{1}{n} \\underbrace{Y_{rot}^T}_{R Y^T} \\underbrace{Y_{rot}}_{Y R^T} U^T - \\frac{1}{n} U \\underbrace{Y_{rot}^T}_{R Y^T} \\Upsilon - \\frac{1}{n} \\Upsilon^T \\underbrace{Y_{rot}}_{Y R^T} U^T \\\\\n",
    "&= \\frac{1}{n} X^T X - U R \\underbrace{\\frac{1}{n} Y^T Y}_{1} R^T U^T - \\frac{1}{n} U R \\underbrace{Y^T \\Upsilon}_{0} - \\frac{1}{n} \\underbrace{\\Upsilon^T Y}_{0} R^T U^T \\\\\n",
    "&= \\frac{1}{n} X^T X - \\underbrace{U}_{U_{rot} R} R R^T U^T \\\\\n",
    "&= \\frac{1}{n} X^T X - U_{rot} R R R^T \\underbrace{U^T}_{R^T U_{rot}^T} \\\\\n",
    "&= \\frac{1}{n} X^T X - U_{rot} R R \\underbrace{R^T R^T}_{\\text{for any Rotation matrix $R$: $R^T = R^{-1}$}}  U_{rot}^T \\\\\n",
    "&= \\frac{1}{n} X^T X - U_{rot} R \\underbrace{R R^{-1}}_{I} R^{-1} U_{rot}^T \\\\\n",
    "&= \\frac{1}{n} X^T X - U_{rot} \\underbrace{R R^{-1}}_{I}  U_{rot}^T \\\\\n",
    "&= \\frac{1}{n} X^T X - U_{rot} U_{rot}^T \\\\\n",
    "\\end{align*}"
   ]
  }
 ],
 "metadata": {
  "kernelspec": {
   "display_name": "Python 3",
   "language": "python",
   "name": "python3"
  },
  "language_info": {
   "codemirror_mode": {
    "name": "ipython",
    "version": 3
   },
   "file_extension": ".py",
   "mimetype": "text/x-python",
   "name": "python",
   "nbconvert_exporter": "python",
   "pygments_lexer": "ipython3",
   "version": "3.8.2"
  },
  "latex_envs": {
   "LaTeX_envs_menu_present": true,
   "autoclose": false,
   "autocomplete": true,
   "bibliofile": "biblio.bib",
   "cite_by": "apalike",
   "current_citInitial": 1,
   "eqLabelWithNumbers": true,
   "eqNumInitial": 1,
   "hotkeys": {
    "equation": "Ctrl-E",
    "itemize": "Ctrl-I"
   },
   "labels_anchors": false,
   "latex_user_defs": false,
   "report_style_numbering": false,
   "user_envs_cfg": false
  }
 },
 "nbformat": 4,
 "nbformat_minor": 2
}
